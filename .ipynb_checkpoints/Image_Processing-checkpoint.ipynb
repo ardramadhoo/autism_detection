{
 "cells": [
  {
   "cell_type": "code",
   "execution_count": 1,
   "id": "069da561",
   "metadata": {},
   "outputs": [
    {
     "name": "stderr",
     "output_type": "stream",
     "text": [
      "C:\\Users\\mdh17\\AppData\\Local\\Programs\\Python\\Python310\\lib\\site-packages\\requests\\__init__.py:102: RequestsDependencyWarning: urllib3 (1.26.7) or chardet (5.0.0)/charset_normalizer (2.0.7) doesn't match a supported version!\n",
      "  warnings.warn(\"urllib3 ({}) or chardet ({})/charset_normalizer ({}) doesn't match a supported \"\n",
      "C:\\Users\\mdh17\\AppData\\Local\\Programs\\Python\\Python310\\lib\\site-packages\\scipy\\__init__.py:155: UserWarning: A NumPy version >=1.18.5 and <1.25.0 is required for this version of SciPy (detected version 1.26.1\n",
      "  warnings.warn(f\"A NumPy version >={np_minversion} and <{np_maxversion}\"\n"
     ]
    }
   ],
   "source": [
    "from tensorflow.keras import layers,models\n",
    "import matplotlib.pyplot as plt\n",
    "import numpy as np\n",
    "import os\n",
    "import cv2\n",
    "import warnings\n",
    "from sklearn.metrics import confusion_matrix, classification_report\n",
    "warnings.filterwarnings('ignore')\n",
    "warnings. filterwarnings('error', category=UserWarning)"
   ]
  },
  {
   "cell_type": "code",
   "execution_count": 2,
   "id": "6db90f90",
   "metadata": {},
   "outputs": [],
   "source": [
    "def load_images_and_labels_from_folder(folder,target_size=(128,128)):\n",
    "    images = []\n",
    "    labels = []\n",
    "    for filename in os.listdir(folder):\n",
    "        img = cv2.imread(os.path.join(folder, filename))\n",
    "        if \"Non\" in filename:\n",
    "            label=1\n",
    "        else:\n",
    "            label=0\n",
    "        if img is not None:\n",
    "            img = cv2.resize(img, target_size)\n",
    "            images.append(img)\n",
    "            labels.append(label)\n",
    "    return np.array(images), np.array(labels)\n",
    "\n",
    "# Define paths to your train and test data folders\n",
    "train_data_folder = 'train'\n",
    "test_data_folder = 'test'\n",
    "\n",
    "# Load images and labels from the \"train\" folder, assuming it contains images of the training data\n",
    "X_train, y_train = load_images_and_labels_from_folder(train_data_folder)  # You may need to set the appropriate label value\n",
    "\n",
    "# Optionally, load images for testing data as well\n",
    "X_test, y_test = load_images_and_labels_from_folder(test_data_folder)  # Use -1 as a placeholder label for testing data"
   ]
  },
  {
   "cell_type": "code",
   "execution_count": 3,
   "id": "4935834a",
   "metadata": {},
   "outputs": [],
   "source": [
    "classes=[\"Autistic\",\"Non-Autistic\"]\n",
    "def plot_sample(X,y,index):\n",
    "    plt.figure(figsize=(30,4))\n",
    "    plt.imshow(X[index])\n",
    "    plt.xlabel(classes[y[index]])"
   ]
  },
  {
   "cell_type": "code",
   "execution_count": 4,
   "id": "4243df6e",
   "metadata": {},
   "outputs": [],
   "source": [
    "X_train = X_train / 255\n",
    "X_test = X_test / 255"
   ]
  },
  {
   "cell_type": "code",
   "execution_count": 5,
   "id": "023b24b9",
   "metadata": {},
   "outputs": [
    {
     "name": "stdout",
     "output_type": "stream",
     "text": [
      "Epoch 1/5\n",
      "80/80 [==============================] - 80s 964ms/step - loss: 1.4208 - accuracy: 0.5094\n",
      "Epoch 2/5\n",
      "80/80 [==============================] - 77s 962ms/step - loss: 0.6706 - accuracy: 0.5941\n",
      "Epoch 3/5\n",
      "80/80 [==============================] - 79s 991ms/step - loss: 0.6745 - accuracy: 0.5996\n",
      "Epoch 4/5\n",
      "80/80 [==============================] - 80s 1s/step - loss: 0.6372 - accuracy: 0.6378\n",
      "Epoch 5/5\n",
      "80/80 [==============================] - 82s 1s/step - loss: 0.6338 - accuracy: 0.6295\n"
     ]
    },
    {
     "data": {
      "text/plain": [
       "<keras.src.callbacks.History at 0x1475030b1c0>"
      ]
     },
     "execution_count": 5,
     "metadata": {},
     "output_type": "execute_result"
    }
   ],
   "source": [
    "ann = models.Sequential([\n",
    "        layers.Flatten(input_shape=(128,128,3)),\n",
    "        layers.Dense(3000,activation=\"relu\"),\n",
    "        layers.Dense(1000,activation=\"relu\"),\n",
    "        layers.Dense(10,activation=\"sigmoid\"),\n",
    "    ])\n",
    "\n",
    "ann.compile(optimizer='SGD',loss='sparse_categorical_crossentropy',\n",
    "           metrics=['accuracy'])\n",
    "\n",
    "ann.fit(X_train,y_train,epochs=5)"
   ]
  },
  {
   "cell_type": "code",
   "execution_count": 6,
   "id": "9363df2c",
   "metadata": {},
   "outputs": [
    {
     "name": "stdout",
     "output_type": "stream",
     "text": [
      "10/10 [==============================] - 3s 173ms/step - loss: 0.7724 - accuracy: 0.5033\n"
     ]
    },
    {
     "data": {
      "text/plain": [
       "[0.7724177837371826, 0.503333330154419]"
      ]
     },
     "execution_count": 6,
     "metadata": {},
     "output_type": "execute_result"
    }
   ],
   "source": [
    "ann.evaluate(X_test,y_test)"
   ]
  },
  {
   "cell_type": "code",
   "execution_count": 7,
   "id": "730cdd36",
   "metadata": {},
   "outputs": [
    {
     "name": "stdout",
     "output_type": "stream",
     "text": [
      "10/10 [==============================] - 2s 179ms/step\n",
      "Classification Report: \n",
      "               precision    recall  f1-score   support\n",
      "\n",
      "           0       0.50      1.00      0.67       150\n",
      "           1       1.00      0.01      0.01       150\n",
      "\n",
      "    accuracy                           0.50       300\n",
      "   macro avg       0.75      0.50      0.34       300\n",
      "weighted avg       0.75      0.50      0.34       300\n",
      "\n"
     ]
    }
   ],
   "source": [
    "y_pred = ann.predict(X_test)\n",
    "y_pred_classes = [np.argmax(element) for element in y_pred]\n",
    "\n",
    "print(\"Classification Report: \\n\",classification_report(y_test,y_pred_classes))"
   ]
  },
  {
   "cell_type": "code",
   "execution_count": 8,
   "id": "8a88b40e",
   "metadata": {},
   "outputs": [],
   "source": [
    "cnn = models.Sequential([\n",
    "        #cnn\n",
    "        layers.Conv2D(filters=128, kernel_size=(3,3), activation=\"relu\", input_shape=(128,128,3)),\n",
    "        layers.MaxPooling2D((2,2)),\n",
    "    \n",
    "        layers.Conv2D(filters=128, kernel_size=(3,3), activation=\"relu\"),\n",
    "        layers.MaxPooling2D((2,2)),\n",
    "        #dense\n",
    "        layers.Flatten(),\n",
    "        layers.Dense(64,activation=\"relu\"),\n",
    "        layers.Dense(10,activation=\"softmax\"),\n",
    "    ])"
   ]
  },
  {
   "cell_type": "code",
   "execution_count": 9,
   "id": "e4f60739",
   "metadata": {},
   "outputs": [],
   "source": [
    "cnn.compile(optimizer='adam',\n",
    "            loss='sparse_categorical_crossentropy',\n",
    "           metrics=['accuracy'])"
   ]
  },
  {
   "cell_type": "code",
   "execution_count": 10,
   "id": "1d33e859",
   "metadata": {},
   "outputs": [
    {
     "name": "stdout",
     "output_type": "stream",
     "text": [
      "Epoch 1/10\n",
      "80/80 [==============================] - 160s 2s/step - loss: 0.7249 - accuracy: 0.6213\n",
      "Epoch 2/10\n",
      "80/80 [==============================] - 156s 2s/step - loss: 0.5535 - accuracy: 0.7154\n",
      "Epoch 3/10\n",
      "80/80 [==============================] - 156s 2s/step - loss: 0.4927 - accuracy: 0.7547\n",
      "Epoch 4/10\n",
      "80/80 [==============================] - 155s 2s/step - loss: 0.4381 - accuracy: 0.8012\n",
      "Epoch 5/10\n",
      "80/80 [==============================] - 157s 2s/step - loss: 0.3591 - accuracy: 0.8323\n",
      "Epoch 6/10\n",
      "80/80 [==============================] - 155s 2s/step - loss: 0.3121 - accuracy: 0.8638\n",
      "Epoch 7/10\n",
      "80/80 [==============================] - 158s 2s/step - loss: 0.2132 - accuracy: 0.9150\n",
      "Epoch 8/10\n",
      "80/80 [==============================] - 157s 2s/step - loss: 0.1426 - accuracy: 0.9445\n",
      "Epoch 9/10\n",
      "80/80 [==============================] - 158s 2s/step - loss: 0.1180 - accuracy: 0.9559\n",
      "Epoch 10/10\n",
      "80/80 [==============================] - 13507s 171s/step - loss: 0.0727 - accuracy: 0.9780\n"
     ]
    },
    {
     "data": {
      "text/plain": [
       "<keras.src.callbacks.History at 0x1475135c580>"
      ]
     },
     "execution_count": 10,
     "metadata": {},
     "output_type": "execute_result"
    }
   ],
   "source": [
    "cnn.fit(X_train,y_train,epochs=10)"
   ]
  },
  {
   "cell_type": "code",
   "execution_count": 11,
   "id": "948fb7f9",
   "metadata": {},
   "outputs": [
    {
     "name": "stdout",
     "output_type": "stream",
     "text": [
      "10/10 [==============================] - 6s 504ms/step - loss: 1.0629 - accuracy: 0.7267\n"
     ]
    },
    {
     "data": {
      "text/plain": [
       "[1.062865138053894, 0.7266666889190674]"
      ]
     },
     "execution_count": 11,
     "metadata": {},
     "output_type": "execute_result"
    }
   ],
   "source": [
    "cnn.evaluate(X_test,y_test)"
   ]
  },
  {
   "cell_type": "code",
   "execution_count": 12,
   "id": "bf4b0f3d",
   "metadata": {},
   "outputs": [
    {
     "name": "stdout",
     "output_type": "stream",
     "text": [
      "10/10 [==============================] - 5s 490ms/step\n",
      "Classification Report: \n",
      "               precision    recall  f1-score   support\n",
      "\n",
      "           0       0.73      0.72      0.72       150\n",
      "           1       0.72      0.73      0.73       150\n",
      "\n",
      "    accuracy                           0.73       300\n",
      "   macro avg       0.73      0.73      0.73       300\n",
      "weighted avg       0.73      0.73      0.73       300\n",
      "\n"
     ]
    }
   ],
   "source": [
    "y_pred = cnn.predict(X_test)\n",
    "y_pred_classes = [np.argmax(element) for element in y_pred]\n",
    "\n",
    "print(\"Classification Report: \\n\",classification_report(y_test,y_pred_classes))"
   ]
  },
  {
   "cell_type": "code",
   "execution_count": 13,
   "id": "cc79a705",
   "metadata": {},
   "outputs": [],
   "source": [
    "cnn.save('my_model.keras')"
   ]
  }
 ],
 "metadata": {
  "kernelspec": {
   "display_name": "Python 3 (ipykernel)",
   "language": "python",
   "name": "python3"
  },
  "language_info": {
   "codemirror_mode": {
    "name": "ipython",
    "version": 3
   },
   "file_extension": ".py",
   "mimetype": "text/x-python",
   "name": "python",
   "nbconvert_exporter": "python",
   "pygments_lexer": "ipython3",
   "version": "3.10.2"
  }
 },
 "nbformat": 4,
 "nbformat_minor": 5
}
